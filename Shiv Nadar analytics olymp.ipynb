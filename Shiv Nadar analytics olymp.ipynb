{
  "nbformat": 4,
  "nbformat_minor": 0,
  "metadata": {
    "colab": {
      "name": "Copy of HACKANONS COLAB 25GB RAM.ipynb",
      "provenance": [],
      "collapsed_sections": [],
      "machine_shape": "hm"
    },
    "kernelspec": {
      "display_name": "Python 3",
      "name": "python3"
    }
  },
  "cells": [
    {
      "cell_type": "code",
      "metadata": {
        "id": "9VIV5op4S5LW"
      },
      "source": [
        "# Essentials\n",
        "import numpy as np\n",
        "import pandas as pd\n",
        "import datetime\n",
        "import random\n",
        "\n",
        "# Plots\n",
        "import seaborn as sns\n",
        "import matplotlib.pyplot as plt\n",
        "\n",
        "# Models\n",
        "from sklearn.ensemble import RandomForestRegressor, GradientBoostingRegressor, AdaBoostRegressor, BaggingRegressor\n",
        "from sklearn.kernel_ridge import KernelRidge\n",
        "from sklearn.linear_model import Ridge, RidgeCV\n",
        "from sklearn.linear_model import Lasso\n",
        "from sklearn.linear_model import ElasticNet, ElasticNetCV\n",
        "from sklearn.svm import SVR\n",
        "from sklearn import neighbors\n",
        "from mlxtend.regressor import StackingCVRegressor\n",
        "import lightgbm as lgb\n",
        "from lightgbm import LGBMRegressor\n",
        "from xgboost import XGBRegressor\n",
        "\n",
        "# Stats\n",
        "from scipy import stats\n",
        "from scipy.stats import skew, norm\n",
        "from scipy.special import boxcox1p\n",
        "from scipy.stats import boxcox_normmax\n",
        "from math import sqrt\n",
        "\n",
        "# Misc\n",
        "from sklearn.model_selection import train_test_split\n",
        "from sklearn.model_selection import GridSearchCV\n",
        "from sklearn.model_selection import KFold, cross_val_score\n",
        "from sklearn.metrics import mean_squared_error\n",
        "from sklearn.preprocessing import OneHotEncoder\n",
        "from sklearn.preprocessing import LabelEncoder\n",
        "from sklearn.pipeline import make_pipeline\n",
        "from sklearn.preprocessing import scale\n",
        "from sklearn.preprocessing import StandardScaler\n",
        "from sklearn.preprocessing import RobustScaler\n",
        "from sklearn.decomposition import PCA\n",
        "from sklearn.metrics import mean_squared_log_error\n",
        "from sklearn.metrics import mean_absolute_error\n",
        "pd.set_option('display.max_columns', None)\n",
        "\n",
        "# Ignore useless warnings\n",
        "import warnings\n",
        "warnings.filterwarnings(action=\"ignore\")\n",
        "pd.options.display.max_seq_items = 8000\n",
        "pd.options.display.max_rows = 8000"
      ],
      "execution_count": 1,
      "outputs": []
    },
    {
      "cell_type": "code",
      "metadata": {
        "colab": {
          "base_uri": "https://localhost:8080/"
        },
        "id": "drt4p1ASS5HE",
        "outputId": "590d5624-7928-46fb-f182-219279d672d5"
      },
      "source": [
        "# Mount the drive\n",
        "from google.colab import drive\n",
        "drive.mount('/content/drive')"
      ],
      "execution_count": 2,
      "outputs": [
        {
          "output_type": "stream",
          "name": "stdout",
          "text": [
            "Mounted at /content/drive\n"
          ]
        }
      ]
    },
    {
      "cell_type": "code",
      "metadata": {
        "colab": {
          "base_uri": "https://localhost:8080/",
          "height": 222
        },
        "id": "MmIR5I5WS5F3",
        "outputId": "9a4c2c39-b888-48bd-809c-220e362c6acf"
      },
      "source": [
        "import io\n",
        "train = pd.read_csv('/content/drive/MyDrive/Shiv_Nadar_DAC/train.csv')\n",
        "print(train.shape)\n",
        "train.head()"
      ],
      "execution_count": 3,
      "outputs": [
        {
          "output_type": "stream",
          "name": "stdout",
          "text": [
            "(87864, 9)\n"
          ]
        },
        {
          "output_type": "execute_result",
          "data": {
            "text/html": [
              "<div>\n",
              "<style scoped>\n",
              "    .dataframe tbody tr th:only-of-type {\n",
              "        vertical-align: middle;\n",
              "    }\n",
              "\n",
              "    .dataframe tbody tr th {\n",
              "        vertical-align: top;\n",
              "    }\n",
              "\n",
              "    .dataframe thead th {\n",
              "        text-align: right;\n",
              "    }\n",
              "</style>\n",
              "<table border=\"1\" class=\"dataframe\">\n",
              "  <thead>\n",
              "    <tr style=\"text-align: right;\">\n",
              "      <th></th>\n",
              "      <th>Item_ID</th>\n",
              "      <th>Item_W</th>\n",
              "      <th>Item_Type</th>\n",
              "      <th>Item_MRP</th>\n",
              "      <th>Outlet_ID</th>\n",
              "      <th>Outlet_Year</th>\n",
              "      <th>Outlet_Size</th>\n",
              "      <th>Outlet_Location_Type</th>\n",
              "      <th>Sales</th>\n",
              "    </tr>\n",
              "  </thead>\n",
              "  <tbody>\n",
              "    <tr>\n",
              "      <th>0</th>\n",
              "      <td>FDU32</td>\n",
              "      <td>21.027499</td>\n",
              "      <td>Baking Goods</td>\n",
              "      <td>197.352319</td>\n",
              "      <td>OUT046</td>\n",
              "      <td>2004</td>\n",
              "      <td>Small</td>\n",
              "      <td>Tier 2</td>\n",
              "      <td>2689.457781</td>\n",
              "    </tr>\n",
              "    <tr>\n",
              "      <th>1</th>\n",
              "      <td>NCT54</td>\n",
              "      <td>21.102371</td>\n",
              "      <td>Meat</td>\n",
              "      <td>148.250214</td>\n",
              "      <td>OUT035</td>\n",
              "      <td>1987</td>\n",
              "      <td>Small</td>\n",
              "      <td>Tier 1</td>\n",
              "      <td>3437.350375</td>\n",
              "    </tr>\n",
              "    <tr>\n",
              "      <th>2</th>\n",
              "      <td>FDW08</td>\n",
              "      <td>20.882263</td>\n",
              "      <td>Hard Drinks</td>\n",
              "      <td>205.465010</td>\n",
              "      <td>OUT035</td>\n",
              "      <td>1999</td>\n",
              "      <td>Small</td>\n",
              "      <td>Tier 3</td>\n",
              "      <td>3129.967268</td>\n",
              "    </tr>\n",
              "    <tr>\n",
              "      <th>3</th>\n",
              "      <td>FDJ22</td>\n",
              "      <td>21.050435</td>\n",
              "      <td>Starchy Foods</td>\n",
              "      <td>253.417583</td>\n",
              "      <td>OUT046</td>\n",
              "      <td>1996</td>\n",
              "      <td>Small</td>\n",
              "      <td>Tier 1</td>\n",
              "      <td>1306.514376</td>\n",
              "    </tr>\n",
              "    <tr>\n",
              "      <th>4</th>\n",
              "      <td>FDF47</td>\n",
              "      <td>21.247876</td>\n",
              "      <td>Baking Goods</td>\n",
              "      <td>240.871039</td>\n",
              "      <td>OUT035</td>\n",
              "      <td>1988</td>\n",
              "      <td>Small</td>\n",
              "      <td>Tier 3</td>\n",
              "      <td>1739.769829</td>\n",
              "    </tr>\n",
              "  </tbody>\n",
              "</table>\n",
              "</div>"
            ],
            "text/plain": [
              "  Item_ID     Item_W      Item_Type    Item_MRP Outlet_ID  Outlet_Year  \\\n",
              "0   FDU32  21.027499   Baking Goods  197.352319    OUT046         2004   \n",
              "1   NCT54  21.102371           Meat  148.250214    OUT035         1987   \n",
              "2   FDW08  20.882263    Hard Drinks  205.465010    OUT035         1999   \n",
              "3   FDJ22  21.050435  Starchy Foods  253.417583    OUT046         1996   \n",
              "4   FDF47  21.247876   Baking Goods  240.871039    OUT035         1988   \n",
              "\n",
              "  Outlet_Size Outlet_Location_Type        Sales  \n",
              "0       Small               Tier 2  2689.457781  \n",
              "1       Small               Tier 1  3437.350375  \n",
              "2       Small               Tier 3  3129.967268  \n",
              "3       Small               Tier 1  1306.514376  \n",
              "4       Small               Tier 3  1739.769829  "
            ]
          },
          "metadata": {},
          "execution_count": 3
        }
      ]
    },
    {
      "cell_type": "code",
      "metadata": {
        "colab": {
          "base_uri": "https://localhost:8080/",
          "height": 222
        },
        "id": "01JzkXg9S5Ce",
        "outputId": "c825f0c3-b193-4c19-a95d-99d0056a3f73"
      },
      "source": [
        "test = pd.read_csv('/content/drive/MyDrive/Shiv_Nadar_DAC/test.csv')\n",
        "print(test.shape)\n",
        "test.head()"
      ],
      "execution_count": 4,
      "outputs": [
        {
          "output_type": "stream",
          "name": "stdout",
          "text": [
            "(37656, 8)\n"
          ]
        },
        {
          "output_type": "execute_result",
          "data": {
            "text/html": [
              "<div>\n",
              "<style scoped>\n",
              "    .dataframe tbody tr th:only-of-type {\n",
              "        vertical-align: middle;\n",
              "    }\n",
              "\n",
              "    .dataframe tbody tr th {\n",
              "        vertical-align: top;\n",
              "    }\n",
              "\n",
              "    .dataframe thead th {\n",
              "        text-align: right;\n",
              "    }\n",
              "</style>\n",
              "<table border=\"1\" class=\"dataframe\">\n",
              "  <thead>\n",
              "    <tr style=\"text-align: right;\">\n",
              "      <th></th>\n",
              "      <th>Item_ID</th>\n",
              "      <th>Item_W</th>\n",
              "      <th>Item_Type</th>\n",
              "      <th>Item_MRP</th>\n",
              "      <th>Outlet_ID</th>\n",
              "      <th>Outlet_Year</th>\n",
              "      <th>Outlet_Size</th>\n",
              "      <th>Outlet_Location_Type</th>\n",
              "    </tr>\n",
              "  </thead>\n",
              "  <tbody>\n",
              "    <tr>\n",
              "      <th>0</th>\n",
              "      <td>DRM23</td>\n",
              "      <td>10.156725</td>\n",
              "      <td>Snack Foods</td>\n",
              "      <td>119.319482</td>\n",
              "      <td>OUT013</td>\n",
              "      <td>1999</td>\n",
              "      <td>High</td>\n",
              "      <td>Tier 3</td>\n",
              "    </tr>\n",
              "    <tr>\n",
              "      <th>1</th>\n",
              "      <td>FDG47</td>\n",
              "      <td>10.434425</td>\n",
              "      <td>Household</td>\n",
              "      <td>263.600449</td>\n",
              "      <td>OUT018</td>\n",
              "      <td>1987</td>\n",
              "      <td>High</td>\n",
              "      <td>Tier 3</td>\n",
              "    </tr>\n",
              "    <tr>\n",
              "      <th>2</th>\n",
              "      <td>FDN21</td>\n",
              "      <td>11.953589</td>\n",
              "      <td>Health and Hygiene</td>\n",
              "      <td>246.286990</td>\n",
              "      <td>OUT018</td>\n",
              "      <td>1997</td>\n",
              "      <td>High</td>\n",
              "      <td>Tier 1</td>\n",
              "    </tr>\n",
              "    <tr>\n",
              "      <th>3</th>\n",
              "      <td>FDZ23</td>\n",
              "      <td>14.948546</td>\n",
              "      <td>Dairy</td>\n",
              "      <td>136.200508</td>\n",
              "      <td>OUT046</td>\n",
              "      <td>2004</td>\n",
              "      <td>Medium</td>\n",
              "      <td>Tier 2</td>\n",
              "    </tr>\n",
              "    <tr>\n",
              "      <th>4</th>\n",
              "      <td>FDC16</td>\n",
              "      <td>11.080042</td>\n",
              "      <td>Canned</td>\n",
              "      <td>173.145664</td>\n",
              "      <td>OUT018</td>\n",
              "      <td>2009</td>\n",
              "      <td>Medium</td>\n",
              "      <td>Tier 3</td>\n",
              "    </tr>\n",
              "  </tbody>\n",
              "</table>\n",
              "</div>"
            ],
            "text/plain": [
              "  Item_ID     Item_W           Item_Type    Item_MRP Outlet_ID  Outlet_Year  \\\n",
              "0   DRM23  10.156725         Snack Foods  119.319482    OUT013         1999   \n",
              "1   FDG47  10.434425           Household  263.600449    OUT018         1987   \n",
              "2   FDN21  11.953589  Health and Hygiene  246.286990    OUT018         1997   \n",
              "3   FDZ23  14.948546               Dairy  136.200508    OUT046         2004   \n",
              "4   FDC16  11.080042              Canned  173.145664    OUT018         2009   \n",
              "\n",
              "  Outlet_Size Outlet_Location_Type  \n",
              "0        High               Tier 3  \n",
              "1        High               Tier 3  \n",
              "2        High               Tier 1  \n",
              "3      Medium               Tier 2  \n",
              "4      Medium               Tier 3  "
            ]
          },
          "metadata": {},
          "execution_count": 4
        }
      ]
    },
    {
      "cell_type": "code",
      "metadata": {
        "colab": {
          "base_uri": "https://localhost:8080/",
          "height": 222
        },
        "id": "BbrXziL8S5A7",
        "outputId": "131c216a-5f7c-4bf6-a3cd-50e7d25f2c51"
      },
      "source": [
        "sample = pd.read_csv('/content/drive/MyDrive/Shiv_Nadar_DAC/submission.csv')\n",
        "print(sample.shape)\n",
        "sample.head()"
      ],
      "execution_count": 5,
      "outputs": [
        {
          "output_type": "stream",
          "name": "stdout",
          "text": [
            "(37656, 1)\n"
          ]
        },
        {
          "output_type": "execute_result",
          "data": {
            "text/html": [
              "<div>\n",
              "<style scoped>\n",
              "    .dataframe tbody tr th:only-of-type {\n",
              "        vertical-align: middle;\n",
              "    }\n",
              "\n",
              "    .dataframe tbody tr th {\n",
              "        vertical-align: top;\n",
              "    }\n",
              "\n",
              "    .dataframe thead th {\n",
              "        text-align: right;\n",
              "    }\n",
              "</style>\n",
              "<table border=\"1\" class=\"dataframe\">\n",
              "  <thead>\n",
              "    <tr style=\"text-align: right;\">\n",
              "      <th></th>\n",
              "      <th>Sales</th>\n",
              "    </tr>\n",
              "  </thead>\n",
              "  <tbody>\n",
              "    <tr>\n",
              "      <th>0</th>\n",
              "      <td>0.0</td>\n",
              "    </tr>\n",
              "    <tr>\n",
              "      <th>1</th>\n",
              "      <td>0.0</td>\n",
              "    </tr>\n",
              "    <tr>\n",
              "      <th>2</th>\n",
              "      <td>0.0</td>\n",
              "    </tr>\n",
              "    <tr>\n",
              "      <th>3</th>\n",
              "      <td>0.0</td>\n",
              "    </tr>\n",
              "    <tr>\n",
              "      <th>4</th>\n",
              "      <td>0.0</td>\n",
              "    </tr>\n",
              "  </tbody>\n",
              "</table>\n",
              "</div>"
            ],
            "text/plain": [
              "   Sales\n",
              "0    0.0\n",
              "1    0.0\n",
              "2    0.0\n",
              "3    0.0\n",
              "4    0.0"
            ]
          },
          "metadata": {},
          "execution_count": 5
        }
      ]
    },
    {
      "cell_type": "code",
      "metadata": {
        "id": "gW4wVpNVYcIw"
      },
      "source": [
        "train['OY'] = train['Outlet_Year'].astype(str)\n",
        "test['OY'] = test['Outlet_Year'].astype(str)"
      ],
      "execution_count": 6,
      "outputs": []
    },
    {
      "cell_type": "code",
      "metadata": {
        "id": "2N9sGgRpS44h"
      },
      "source": [
        "def calc_smooth_mean(df1, df2, cat_name, target, weight):\n",
        "    # Compute the global mean\n",
        "    mean = stats.trim_mean(df1[target], 0.15)\n",
        "\n",
        "    # Compute the number of values and the mean of each group\n",
        "    agg = df1.groupby(cat_name)[target].agg(['count', 'mean'])\n",
        "    counts = agg['count']\n",
        "    means = agg['mean']\n",
        "\n",
        "    # Compute the \"smoothed\" means\n",
        "    smooth = (counts * means + weight * mean) / (counts + weight)\n",
        "\n",
        "    # Replace each value by the according smoothed mean\n",
        "    if df2 is None:\n",
        "        return df1[cat_name].map(smooth)\n",
        "    else:\n",
        "        return df1[cat_name].map(smooth),df2[cat_name].map(smooth.to_dict())"
      ],
      "execution_count": 7,
      "outputs": []
    },
    {
      "cell_type": "code",
      "metadata": {
        "id": "-4LgpmeOS42y"
      },
      "source": [
        "WEIGHT = 5\n",
        "train['Item_ID_enc'], test['Item_ID_enc'] = calc_smooth_mean(df1=train, df2=test, cat_name='Item_ID', target='Sales', weight=WEIGHT)\n",
        "train['Item_Type_enc'], test['Item_Type_enc'] = calc_smooth_mean(df1=train, df2=test, cat_name='Item_Type', target='Sales', weight=WEIGHT)\n",
        "train['Outlet_ID_enc'], test['Outlet_ID_enc'] = calc_smooth_mean(df1=train, df2=test, cat_name='Outlet_ID', target='Sales', weight=WEIGHT)\n",
        "train['OY_enc'], test['OY_enc'] = calc_smooth_mean(df1=train, df2=test, cat_name='OY', target='Sales', weight=WEIGHT)\n",
        "train['Outlet_Size_enc'], test['Outlet_Size_enc'] = calc_smooth_mean(df1=train, df2=test, cat_name='Outlet_Size', target='Sales', weight=WEIGHT)\n",
        "train['Outlet_Location_Type_enc'], test['Outlet_Location_Type_enc'] = calc_smooth_mean(df1=train, df2=test, cat_name='Outlet_Location_Type', target='Sales', weight=WEIGHT)"
      ],
      "execution_count": 8,
      "outputs": []
    },
    {
      "cell_type": "code",
      "metadata": {
        "id": "SDQUyTIVTKBc"
      },
      "source": [
        "test['Item_ID_enc'] = test['Item_ID_enc'].fillna(test['Item_ID_enc'].mean())"
      ],
      "execution_count": 11,
      "outputs": []
    },
    {
      "cell_type": "code",
      "metadata": {
        "id": "viyxmvEPS4x3"
      },
      "source": [
        "target = \"Sales\"\n",
        "train_target = train[target]\n",
        "train.drop([target], axis=1, inplace=True)"
      ],
      "execution_count": 12,
      "outputs": []
    },
    {
      "cell_type": "code",
      "metadata": {
        "colab": {
          "base_uri": "https://localhost:8080/"
        },
        "id": "gDNAQbKaS4uK",
        "outputId": "5961464b-546c-4cdf-c19c-62974063a68a"
      },
      "source": [
        "alldata = pd.concat([train, test], axis=0, sort=False, ignore_index=True)\n",
        "alldata.shape"
      ],
      "execution_count": 13,
      "outputs": [
        {
          "output_type": "execute_result",
          "data": {
            "text/plain": [
              "(125520, 15)"
            ]
          },
          "metadata": {},
          "execution_count": 13
        }
      ]
    },
    {
      "cell_type": "code",
      "metadata": {
        "id": "CNIMc82HNiAA"
      },
      "source": [
        "alldata['median_Item_MRP_per_Item_W'] = alldata.groupby('Item_W')['Item_MRP'].transform('median')\n",
        "alldata['min_Item_MRP_per_Item_W'] = alldata.groupby('Item_W')['Item_MRP'].transform('min')\n",
        "alldata['max_Item_MRP_per_Item_W'] = alldata.groupby('Item_W')['Item_MRP'].transform('max')\n",
        "\n",
        "alldata['median_Item_MRP_per_Item_ID'] = alldata.groupby('Item_ID')['Item_MRP'].transform('median')\n",
        "alldata['min_Item_MRP_per_Item_ID'] = alldata.groupby('Item_ID')['Item_MRP'].transform('min')\n",
        "alldata['max_Item_MRP_per_Item_ID'] = alldata.groupby('Item_ID')['Item_MRP'].transform('max')\n",
        "\n",
        "alldata['median_Item_MRP_per_Item_Type'] = alldata.groupby('Item_Type')['Item_MRP'].transform('median')\n",
        "alldata['min_Item_MRP_per_Item_Type'] = alldata.groupby('Item_Type')['Item_MRP'].transform('min')\n",
        "alldata['max_Item_MRP_per_Item_Type'] = alldata.groupby('Item_Type')['Item_MRP'].transform('max')\n",
        "\n",
        "alldata['median_Item_MRP_per_Outlet_ID'] = alldata.groupby('Outlet_ID')['Item_MRP'].transform('median')\n",
        "alldata['min_Item_MRP_per_Outlet_ID'] = alldata.groupby('Outlet_ID')['Item_MRP'].transform('min')\n",
        "alldata['max_Item_MRP_per_Outlet_ID'] = alldata.groupby('Outlet_ID')['Item_MRP'].transform('max')\n",
        "\n",
        "alldata['median_Item_MRP_per_OY'] = alldata.groupby('OY')['Item_MRP'].transform('median')\n",
        "alldata['min_Item_MRP_per_OY'] = alldata.groupby('OY')['Item_MRP'].transform('min')\n",
        "alldata['max_Item_MRP_per_OY'] = alldata.groupby('OY')['Item_MRP'].transform('max')\n",
        "\n",
        "alldata['median_Item_MRP_per_Outlet_Size'] = alldata.groupby('Outlet_Size')['Item_MRP'].transform('median')\n",
        "alldata['min_Item_MRP_per_Outlet_Size'] = alldata.groupby('Outlet_Size')['Item_MRP'].transform('min')\n",
        "alldata['max_Item_MRP_per_Outlet_Size'] = alldata.groupby('Outlet_Size')['Item_MRP'].transform('max')\n",
        "\n",
        "alldata['median_Item_MRP_per_Outlet_Location_Type'] = alldata.groupby('Outlet_Location_Type')['Item_MRP'].transform('median')\n",
        "alldata['min_Item_MRP_per_Outlet_Location_Type'] = alldata.groupby('Outlet_Location_Type')['Item_MRP'].transform('min')\n",
        "alldata['max_Item_MRP_per_Outlet_Location_Type'] = alldata.groupby('Outlet_Location_Type')['Item_MRP'].transform('max')\n",
        "\n",
        "\n",
        "alldata['median_Item_W_per_Item_ID'] = alldata.groupby('Item_ID')['Item_W'].transform('median')\n",
        "alldata['min_Item_W_per_Item_ID'] = alldata.groupby('Item_ID')['Item_W'].transform('min')\n",
        "alldata['max_Item_W_per_Item_ID'] = alldata.groupby('Item_ID')['Item_W'].transform('max')\n",
        "\n",
        "alldata['median_Item_W_per_Item_Type'] = alldata.groupby('Item_Type')['Item_W'].transform('median')\n",
        "alldata['min_Item_W_per_Item_Type'] = alldata.groupby('Item_Type')['Item_W'].transform('min')\n",
        "alldata['max_Item_W_per_Item_Type'] = alldata.groupby('Item_Type')['Item_W'].transform('max')\n",
        "\n",
        "alldata['median_Item_W_per_Outlet_ID'] = alldata.groupby('Outlet_ID')['Item_W'].transform('median')\n",
        "alldata['min_Item_W_per_Outlet_ID'] = alldata.groupby('Outlet_ID')['Item_W'].transform('min')\n",
        "alldata['max_Item_W_per_Outlet_ID'] = alldata.groupby('Outlet_ID')['Item_W'].transform('max')\n",
        "\n",
        "alldata['median_Item_W_per_OY'] = alldata.groupby('OY')['Item_W'].transform('median')\n",
        "alldata['min_Item_W_per_OY'] = alldata.groupby('OY')['Item_W'].transform('min')\n",
        "alldata['max_Item_W_per_OY'] = alldata.groupby('OY')['Item_W'].transform('max')\n",
        "\n",
        "alldata['median_Item_W_per_Outlet_Size'] = alldata.groupby('Outlet_Size')['Item_W'].transform('median')\n",
        "alldata['min_Item_W_per_Outlet_Size'] = alldata.groupby('Outlet_Size')['Item_W'].transform('min')\n",
        "alldata['max_Item_W_per_Outlet_Size'] = alldata.groupby('Outlet_Size')['Item_W'].transform('max')\n",
        "\n",
        "alldata['median_Item_W_per_Outlet_Location_Type'] = alldata.groupby('Outlet_Location_Type')['Item_W'].transform('median')\n",
        "alldata['min_Item_W_per_Outlet_Location_Type'] = alldata.groupby('Outlet_Location_Type')['Item_W'].transform('min')\n",
        "alldata['max_Item_W_per_Outlet_Location_Type'] = alldata.groupby('Outlet_Location_Type')['Item_W'].transform('max')"
      ],
      "execution_count": 14,
      "outputs": []
    },
    {
      "cell_type": "code",
      "metadata": {
        "id": "JLQdmNVcPvap"
      },
      "source": [
        "train['Sales'] = train_target\n",
        "alldata['median_Sales_per_Item_ID'] = alldata['Item_ID'].map(train.groupby('Item_ID')['Sales'].median().to_dict())\n",
        "alldata['min_Sales_per_Item_ID'] = alldata['Item_ID'].map(train.groupby('Item_ID')['Sales'].min().to_dict())\n",
        "alldata['max_Sales_per_Item_ID'] = alldata['Item_ID'].map(train.groupby('Item_ID')['Sales'].max().to_dict())\n",
        "\n",
        "alldata['median_Sales_per_Item_Type'] = alldata['Item_Type'].map(train.groupby('Item_Type')['Sales'].median().to_dict())\n",
        "alldata['min_Sales_per_Item_Type'] = alldata['Item_Type'].map(train.groupby('Item_Type')['Sales'].min().to_dict())\n",
        "alldata['max_Sales_per_Item_Type'] = alldata['Item_Type'].map(train.groupby('Item_Type')['Sales'].max().to_dict())\n",
        "\n",
        "alldata['median_Sales_per_Outlet_ID'] = alldata['Outlet_ID'].map(train.groupby('Outlet_ID')['Sales'].median().to_dict())\n",
        "alldata['min_Sales_per_Outlet_ID'] = alldata['Outlet_ID'].map(train.groupby('Outlet_ID')['Sales'].min().to_dict())\n",
        "alldata['max_Sales_per_Outlet_ID'] = alldata['Outlet_ID'].map(train.groupby('Outlet_ID')['Sales'].max().to_dict())\n",
        "\n",
        "alldata['median_Sales_per_OY'] = alldata['OY'].map(train.groupby('OY')['Sales'].median().to_dict())\n",
        "alldata['min_Sales_per_OY'] = alldata['OY'].map(train.groupby('OY')['Sales'].min().to_dict())\n",
        "alldata['max_Sales_per_OY'] = alldata['OY'].map(train.groupby('OY')['Sales'].max().to_dict())\n",
        "\n",
        "alldata['median_Sales_per_Outlet_Size'] = alldata['Outlet_Size'].map(train.groupby('Outlet_Size')['Sales'].median().to_dict())\n",
        "alldata['min_Sales_per_Outlet_Size'] = alldata['Outlet_Size'].map(train.groupby('Outlet_Size')['Sales'].min().to_dict())\n",
        "alldata['max_Sales_per_Outlet_Size'] = alldata['Outlet_Size'].map(train.groupby('Outlet_Size')['Sales'].max().to_dict())\n",
        "\n",
        "alldata['median_Sales_per_Outlet_Location_Type'] = alldata['Outlet_Location_Type'].map(train.groupby('Outlet_Location_Type')['Sales'].median().to_dict())\n",
        "alldata['min_Sales_per_Outlet_Location_Type'] = alldata['Outlet_Location_Type'].map(train.groupby('Outlet_Location_Type')['Sales'].min().to_dict())\n",
        "alldata['max_Sales_per_Outlet_Location_Type'] = alldata['Outlet_Location_Type'].map(train.groupby('Outlet_Location_Type')['Sales'].max().to_dict())"
      ],
      "execution_count": 15,
      "outputs": []
    },
    {
      "cell_type": "code",
      "metadata": {
        "id": "qqpPGeBaTtMJ"
      },
      "source": [
        "alldata['total_years'] = 2021.0 - alldata['Outlet_Year']\n",
        "alldata['Item_W_per_year'] = alldata.apply(lambda x: x['Item_W']/x['total_years'], axis = 1)\n",
        "alldata['Item_MRP_per_year'] = alldata.apply(lambda x: x['Item_MRP']/x['total_years'], axis = 1)\n",
        "alldata.drop('Outlet_Year', axis=1, inplace=True)"
      ],
      "execution_count": 16,
      "outputs": []
    },
    {
      "cell_type": "code",
      "metadata": {
        "id": "51-PNFsMd_Qf"
      },
      "source": [
        "alldata['Item_ID_enc'] = alldata['Item_ID_enc'].fillna(alldata['Item_ID_enc'].mean())\n",
        "alldata['median_Sales_per_Item_ID'] = alldata['median_Sales_per_Item_ID'].fillna(alldata['median_Sales_per_Item_ID'].mean())\n",
        "alldata['min_Sales_per_Item_ID'] = alldata['min_Sales_per_Item_ID'].fillna(alldata['min_Sales_per_Item_ID'].mean())\n",
        "alldata['max_Sales_per_Item_ID'] = alldata['max_Sales_per_Item_ID'].fillna(alldata['max_Sales_per_Item_ID'].mean())"
      ],
      "execution_count": 17,
      "outputs": []
    },
    {
      "cell_type": "code",
      "metadata": {
        "colab": {
          "base_uri": "https://localhost:8080/",
          "height": 205
        },
        "id": "LMXiyzvUS4rj",
        "outputId": "91991d57-977d-4f4b-f233-bdc48a756d44"
      },
      "source": [
        "ab = alldata[['Item_ID','Outlet_ID','Item_Type','OY','Outlet_Size','Outlet_Location_Type']]\n",
        "ab.head()"
      ],
      "execution_count": 18,
      "outputs": [
        {
          "output_type": "execute_result",
          "data": {
            "text/html": [
              "<div>\n",
              "<style scoped>\n",
              "    .dataframe tbody tr th:only-of-type {\n",
              "        vertical-align: middle;\n",
              "    }\n",
              "\n",
              "    .dataframe tbody tr th {\n",
              "        vertical-align: top;\n",
              "    }\n",
              "\n",
              "    .dataframe thead th {\n",
              "        text-align: right;\n",
              "    }\n",
              "</style>\n",
              "<table border=\"1\" class=\"dataframe\">\n",
              "  <thead>\n",
              "    <tr style=\"text-align: right;\">\n",
              "      <th></th>\n",
              "      <th>Item_ID</th>\n",
              "      <th>Outlet_ID</th>\n",
              "      <th>Item_Type</th>\n",
              "      <th>OY</th>\n",
              "      <th>Outlet_Size</th>\n",
              "      <th>Outlet_Location_Type</th>\n",
              "    </tr>\n",
              "  </thead>\n",
              "  <tbody>\n",
              "    <tr>\n",
              "      <th>0</th>\n",
              "      <td>FDU32</td>\n",
              "      <td>OUT046</td>\n",
              "      <td>Baking Goods</td>\n",
              "      <td>2004</td>\n",
              "      <td>Small</td>\n",
              "      <td>Tier 2</td>\n",
              "    </tr>\n",
              "    <tr>\n",
              "      <th>1</th>\n",
              "      <td>NCT54</td>\n",
              "      <td>OUT035</td>\n",
              "      <td>Meat</td>\n",
              "      <td>1987</td>\n",
              "      <td>Small</td>\n",
              "      <td>Tier 1</td>\n",
              "    </tr>\n",
              "    <tr>\n",
              "      <th>2</th>\n",
              "      <td>FDW08</td>\n",
              "      <td>OUT035</td>\n",
              "      <td>Hard Drinks</td>\n",
              "      <td>1999</td>\n",
              "      <td>Small</td>\n",
              "      <td>Tier 3</td>\n",
              "    </tr>\n",
              "    <tr>\n",
              "      <th>3</th>\n",
              "      <td>FDJ22</td>\n",
              "      <td>OUT046</td>\n",
              "      <td>Starchy Foods</td>\n",
              "      <td>1996</td>\n",
              "      <td>Small</td>\n",
              "      <td>Tier 1</td>\n",
              "    </tr>\n",
              "    <tr>\n",
              "      <th>4</th>\n",
              "      <td>FDF47</td>\n",
              "      <td>OUT035</td>\n",
              "      <td>Baking Goods</td>\n",
              "      <td>1988</td>\n",
              "      <td>Small</td>\n",
              "      <td>Tier 3</td>\n",
              "    </tr>\n",
              "  </tbody>\n",
              "</table>\n",
              "</div>"
            ],
            "text/plain": [
              "  Item_ID Outlet_ID      Item_Type    OY Outlet_Size Outlet_Location_Type\n",
              "0   FDU32    OUT046   Baking Goods  2004       Small               Tier 2\n",
              "1   NCT54    OUT035           Meat  1987       Small               Tier 1\n",
              "2   FDW08    OUT035    Hard Drinks  1999       Small               Tier 3\n",
              "3   FDJ22    OUT046  Starchy Foods  1996       Small               Tier 1\n",
              "4   FDF47    OUT035   Baking Goods  1988       Small               Tier 3"
            ]
          },
          "metadata": {},
          "execution_count": 18
        }
      ]
    },
    {
      "cell_type": "code",
      "metadata": {
        "id": "z_f2LGXPS4n9"
      },
      "source": [
        "features = pd.get_dummies(ab, columns=ab.columns, sparse=True)\n",
        "features = features.sparse.to_coo()"
      ],
      "execution_count": 19,
      "outputs": []
    },
    {
      "cell_type": "code",
      "metadata": {
        "id": "a1Y-9R-bS4mc"
      },
      "source": [
        "num_cols = [col for col in alldata.columns if col not in ab.columns]"
      ],
      "execution_count": 20,
      "outputs": []
    },
    {
      "cell_type": "code",
      "metadata": {
        "id": "6rO8A1-rsKDP"
      },
      "source": [
        "import scipy\n",
        "num_features=scipy.sparse.coo_matrix(alldata[num_cols].values)"
      ],
      "execution_count": 21,
      "outputs": []
    },
    {
      "cell_type": "code",
      "metadata": {
        "id": "clg4IVwIsKAY"
      },
      "source": [
        "features=scipy.sparse.hstack([features, num_features]).tocsr()"
      ],
      "execution_count": 22,
      "outputs": []
    },
    {
      "cell_type": "code",
      "metadata": {
        "colab": {
          "base_uri": "https://localhost:8080/"
        },
        "id": "w7H7E9jTsJ0i",
        "outputId": "b848c1cc-10a4-44c6-de5d-19105ce8645f"
      },
      "source": [
        "train_ohe = features[:train.shape[0], :]\n",
        "test_ohe = features[train.shape[0]:, :]\n",
        "\n",
        "print(train_ohe.shape)\n",
        "print(test_ohe.shape)"
      ],
      "execution_count": 23,
      "outputs": [
        {
          "output_type": "stream",
          "name": "stdout",
          "text": [
            "(87864, 1003)\n",
            "(37656, 1003)\n"
          ]
        }
      ]
    },
    {
      "cell_type": "code",
      "metadata": {
        "id": "TX2B0l9ZsJw1"
      },
      "source": [
        "# Setup cross validation folds\n",
        "kf = KFold(n_splits=4, random_state=42, shuffle=True)"
      ],
      "execution_count": 24,
      "outputs": []
    },
    {
      "cell_type": "code",
      "metadata": {
        "id": "Td3n81kmsJvz"
      },
      "source": [
        "#Define error metrics\n",
        "def rmsle(y, y_pred):\n",
        "    return np.sqrt(mean_squared_error(y, y_pred))\n",
        "\n",
        "def cv_rmse(model):\n",
        "    rmse = np.sqrt(-cross_val_score(model, train_ohe, train_target, scoring=\"neg_mean_squared_error\", cv=kf))\n",
        "    return (rmse)"
      ],
      "execution_count": 25,
      "outputs": []
    },
    {
      "cell_type": "code",
      "metadata": {
        "id": "wRC4u9wOsJtJ"
      },
      "source": [
        "lightgbm = LGBMRegressor(objective='regression', \n",
        "                       num_leaves=6,\n",
        "                       learning_rate=0.01, \n",
        "                       n_estimators=1000,\n",
        "                       max_bin=200, \n",
        "                       bagging_fraction=0.8,\n",
        "                       bagging_freq=4, \n",
        "                       bagging_seed=8,\n",
        "                       feature_fraction=0.2,\n",
        "                       feature_fraction_seed=8,\n",
        "                       min_sum_hessian_in_leaf = 11,\n",
        "                       verbose=-1,\n",
        "                       random_state=42)\n",
        "\n",
        "# ridge regressor\n",
        "ridge = Ridge(alpha=0.35)\n",
        "# lasso regressor\n",
        "lasso = Lasso(alpha=.5)\n",
        "# elasticnet regressor\n",
        "elasticnet = ElasticNet(alpha=1.0, l1_ratio=0.5)\n",
        "\n",
        "# Stack up all the models above, optimized using rf\n",
        "stack_gen = StackingCVRegressor(regressors=(lightgbm ,ridge, lasso, elasticnet),\n",
        "                                meta_regressor=elasticnet,\n",
        "                                use_features_in_secondary=True)"
      ],
      "execution_count": 26,
      "outputs": []
    },
    {
      "cell_type": "code",
      "metadata": {
        "colab": {
          "base_uri": "https://localhost:8080/"
        },
        "id": "6tNmMgoMsJrP",
        "outputId": "6746f031-8dc4-48c1-9008-c9b5a71f6d41"
      },
      "source": [
        "scores = {}\n",
        "score = cv_rmse(lightgbm)\n",
        "print(\"lightgbm: {:.4f} ({:.4f})\".format(score.mean(), score.std()))\n",
        "scores['lgb'] = (score.mean(), score.std())"
      ],
      "execution_count": 28,
      "outputs": [
        {
          "output_type": "stream",
          "name": "stdout",
          "text": [
            "lightgbm: 1267.2222 (5.7255)\n"
          ]
        }
      ]
    },
    {
      "cell_type": "code",
      "metadata": {
        "colab": {
          "base_uri": "https://localhost:8080/"
        },
        "id": "MbGC8xOlw7g8",
        "outputId": "61032592-a98d-41a1-a2af-088ec035222c"
      },
      "source": [
        "score = cv_rmse(ridge)\n",
        "print(\"ridge: {:.4f} ({:.4f})\".format(score.mean(), score.std()))\n",
        "scores['ridge'] = (score.mean(), score.std())"
      ],
      "execution_count": 29,
      "outputs": [
        {
          "output_type": "stream",
          "name": "stdout",
          "text": [
            "ridge: 1265.3948 (5.3033)\n"
          ]
        }
      ]
    },
    {
      "cell_type": "code",
      "metadata": {
        "colab": {
          "base_uri": "https://localhost:8080/"
        },
        "id": "G1qYCtPPw7bd",
        "outputId": "4fa3f6ad-1912-49b4-f83d-c003ea70f6e1"
      },
      "source": [
        "score = cv_rmse(lasso)\n",
        "print(\"lasso: {:.4f} ({:.4f})\".format(score.mean(), score.std()))\n",
        "scores['lasso'] = (score.mean(), score.std())"
      ],
      "execution_count": 30,
      "outputs": [
        {
          "output_type": "stream",
          "name": "stdout",
          "text": [
            "lasso: 1265.1988 (5.3601)\n"
          ]
        }
      ]
    },
    {
      "cell_type": "code",
      "metadata": {
        "colab": {
          "base_uri": "https://localhost:8080/"
        },
        "id": "2AONO18z8jVa",
        "outputId": "7f8eb2f0-4e25-4e6e-9d5c-6ff80748e850"
      },
      "source": [
        "score = cv_rmse(elasticnet)\n",
        "print(\"elasticnet: {:.4f} ({:.4f})\".format(score.mean(), score.std()))\n",
        "scores['elasticnet'] = (score.mean(), score.std())"
      ],
      "execution_count": 31,
      "outputs": [
        {
          "output_type": "stream",
          "name": "stdout",
          "text": [
            "elasticnet: 1265.1802 (5.3095)\n"
          ]
        }
      ]
    },
    {
      "cell_type": "code",
      "metadata": {
        "colab": {
          "base_uri": "https://localhost:8080/"
        },
        "id": "425EiROO8jSS",
        "outputId": "d4156546-99f1-4c29-ee61-a54b5960d25a"
      },
      "source": [
        "print('stack_gen')\n",
        "stack_gen_model = stack_gen.fit(train_ohe, train_target)"
      ],
      "execution_count": 32,
      "outputs": [
        {
          "output_type": "stream",
          "name": "stdout",
          "text": [
            "stack_gen\n"
          ]
        }
      ]
    },
    {
      "cell_type": "code",
      "metadata": {
        "colab": {
          "base_uri": "https://localhost:8080/"
        },
        "id": "SZvg5KLq8jQV",
        "outputId": "758062ae-95f7-40e4-dc12-0020905fafd6"
      },
      "source": [
        "print('lightgbm')\n",
        "lgb_model_full_data = lightgbm.fit(train_ohe, train_target)"
      ],
      "execution_count": 33,
      "outputs": [
        {
          "output_type": "stream",
          "name": "stdout",
          "text": [
            "lightgbm\n"
          ]
        }
      ]
    },
    {
      "cell_type": "code",
      "metadata": {
        "colab": {
          "base_uri": "https://localhost:8080/"
        },
        "id": "iMgcGmKf8jMb",
        "outputId": "c2aecb9f-600c-460a-cf45-7a2ff67a33d8"
      },
      "source": [
        "print('ridge')\n",
        "ridge_model_full_data = ridge.fit(train_ohe, train_target)"
      ],
      "execution_count": 34,
      "outputs": [
        {
          "output_type": "stream",
          "name": "stdout",
          "text": [
            "ridge\n"
          ]
        }
      ]
    },
    {
      "cell_type": "code",
      "metadata": {
        "id": "xXIZE9uj8jLI",
        "colab": {
          "base_uri": "https://localhost:8080/"
        },
        "outputId": "0ccfa813-3835-4c38-ff11-a0f0ca0c0c33"
      },
      "source": [
        "print('lasso')\n",
        "lasso_model_full_data = lasso.fit(train_ohe, train_target)"
      ],
      "execution_count": 35,
      "outputs": [
        {
          "output_type": "stream",
          "name": "stdout",
          "text": [
            "lasso\n"
          ]
        }
      ]
    },
    {
      "cell_type": "code",
      "metadata": {
        "id": "8tY4nViVsxT8",
        "colab": {
          "base_uri": "https://localhost:8080/"
        },
        "outputId": "e29a6d6b-78c9-42d4-afd0-93654baed7a4"
      },
      "source": [
        "print('elasticnet')\n",
        "elasticnet_model_full_data = elasticnet.fit(train_ohe, train_target)"
      ],
      "execution_count": 36,
      "outputs": [
        {
          "output_type": "stream",
          "name": "stdout",
          "text": [
            "elasticnet\n"
          ]
        }
      ]
    },
    {
      "cell_type": "code",
      "metadata": {
        "id": "EATMGQz8Q6fI"
      },
      "source": [
        "# Blend models in order to make the final predictions more robust to overfitting\n",
        "def blended_predictions(train_ohe):\n",
        "    return (((0.10 * lgb_model_full_data.predict(train_ohe)) + \\\n",
        "            (0.20 * ridge_model_full_data.predict(train_ohe)) + \\\n",
        "            (0.20 * lasso_model_full_data.predict(train_ohe)) + \\\n",
        "            (0.20 * elasticnet_model_full_data.predict(train_ohe)) + \\\n",
        "            (0.30 * stack_gen_model.predict(train_ohe))))"
      ],
      "execution_count": 37,
      "outputs": []
    },
    {
      "cell_type": "code",
      "metadata": {
        "id": "tvFMxAEbQ6cL",
        "colab": {
          "base_uri": "https://localhost:8080/"
        },
        "outputId": "169ac5d7-6827-4057-ee3d-cbd5126dcda7"
      },
      "source": [
        "# Get final precitions from the blended model\n",
        "blended_score = rmsle(train_target, blended_predictions(train_ohe))\n",
        "scores['blended'] = (blended_score, 0)\n",
        "print('RMSLE score on train data:')\n",
        "print(blended_score)"
      ],
      "execution_count": 38,
      "outputs": [
        {
          "output_type": "stream",
          "name": "stdout",
          "text": [
            "RMSLE score on train data:\n",
            "1263.5894425686186\n"
          ]
        }
      ]
    },
    {
      "cell_type": "code",
      "metadata": {
        "id": "PG5de3edsxSy"
      },
      "source": [
        "pred = blended_predictions(test_ohe)\n",
        "sample['Sales'] = pred"
      ],
      "execution_count": 39,
      "outputs": []
    },
    {
      "cell_type": "code",
      "metadata": {
        "colab": {
          "base_uri": "https://localhost:8080/",
          "height": 17
        },
        "id": "7Tm0w4pmsxOG",
        "outputId": "4cc6a1d5-7581-41eb-c19f-620041e88028"
      },
      "source": [
        "from google.colab import files\n",
        "\n",
        "sample.to_csv('subP.csv', index=False)\n",
        "files.download('subP.csv')"
      ],
      "execution_count": 41,
      "outputs": [
        {
          "output_type": "display_data",
          "data": {
            "application/javascript": [
              "\n",
              "    async function download(id, filename, size) {\n",
              "      if (!google.colab.kernel.accessAllowed) {\n",
              "        return;\n",
              "      }\n",
              "      const div = document.createElement('div');\n",
              "      const label = document.createElement('label');\n",
              "      label.textContent = `Downloading \"${filename}\": `;\n",
              "      div.appendChild(label);\n",
              "      const progress = document.createElement('progress');\n",
              "      progress.max = size;\n",
              "      div.appendChild(progress);\n",
              "      document.body.appendChild(div);\n",
              "\n",
              "      const buffers = [];\n",
              "      let downloaded = 0;\n",
              "\n",
              "      const channel = await google.colab.kernel.comms.open(id);\n",
              "      // Send a message to notify the kernel that we're ready.\n",
              "      channel.send({})\n",
              "\n",
              "      for await (const message of channel.messages) {\n",
              "        // Send a message to notify the kernel that we're ready.\n",
              "        channel.send({})\n",
              "        if (message.buffers) {\n",
              "          for (const buffer of message.buffers) {\n",
              "            buffers.push(buffer);\n",
              "            downloaded += buffer.byteLength;\n",
              "            progress.value = downloaded;\n",
              "          }\n",
              "        }\n",
              "      }\n",
              "      const blob = new Blob(buffers, {type: 'application/binary'});\n",
              "      const a = document.createElement('a');\n",
              "      a.href = window.URL.createObjectURL(blob);\n",
              "      a.download = filename;\n",
              "      div.appendChild(a);\n",
              "      a.click();\n",
              "      div.remove();\n",
              "    }\n",
              "  "
            ],
            "text/plain": [
              "<IPython.core.display.Javascript object>"
            ]
          },
          "metadata": {}
        },
        {
          "output_type": "display_data",
          "data": {
            "application/javascript": [
              "download(\"download_4b37ee83-ea54-4dab-a46f-993dc3dbaf82\", \"subN.csv\", 703502)"
            ],
            "text/plain": [
              "<IPython.core.display.Javascript object>"
            ]
          },
          "metadata": {}
        }
      ]
    },
    {
      "cell_type": "code",
      "metadata": {
        "id": "P7Ss0tkiFCvU"
      },
      "source": [
        ""
      ],
      "execution_count": null,
      "outputs": []
    }
  ]
}